{
  "nbformat": 4,
  "nbformat_minor": 0,
  "metadata": {
    "colab": {
      "provenance": [],
      "authorship_tag": "ABX9TyOolXsfHGCDwp8y81Qi1cQ/",
      "include_colab_link": true
    },
    "kernelspec": {
      "name": "python3",
      "display_name": "Python 3"
    },
    "language_info": {
      "name": "python"
    }
  },
  "cells": [
    {
      "cell_type": "markdown",
      "metadata": {
        "id": "view-in-github",
        "colab_type": "text"
      },
      "source": [
        "<a href=\"https://colab.research.google.com/github/Luiscarlosm33fr/SIM_YAC_UPSE2023_Luis_morocho/blob/main/Untitled0.ipynb\" target=\"_parent\"><img src=\"https://colab.research.google.com/assets/colab-badge.svg\" alt=\"Open In Colab\"/></a>"
      ]
    },
    {
      "cell_type": "code",
      "execution_count": null,
      "metadata": {
        "id": "DSw8iMwJvsqz"
      },
      "outputs": [],
      "source": [
        "# HEllo world "
      ]
    },
    {
      "cell_type": "code",
      "source": [],
      "metadata": {
        "id": "LIlc8le1v0Vx"
      },
      "execution_count": null,
      "outputs": []
    },
    {
      "cell_type": "markdown",
      "source": [
        "Helo World"
      ],
      "metadata": {
        "id": "Y72Pof19v1qp"
      }
    },
    {
      "cell_type": "code",
      "source": [],
      "metadata": {
        "id": "xa0mzlk5v4A9"
      },
      "execution_count": null,
      "outputs": []
    },
    {
      "cell_type": "markdown",
      "source": [
        "Helo World"
      ],
      "metadata": {
        "id": "7ssytdGmwdhz"
      }
    },
    {
      "cell_type": "code",
      "source": [],
      "metadata": {
        "id": "KEcJuhmhwfVH"
      },
      "execution_count": null,
      "outputs": []
    }
  ]
}